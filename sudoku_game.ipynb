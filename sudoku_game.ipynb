{
 "cells": [
  {
   "cell_type": "markdown",
   "metadata": {},
   "source": [
    "بازی سودوکو با پای‌گیم 🎮\n",
    "این نوت‌بوک یک بازی سودوکو را با استفاده از زبان پایتون و کتابخانه‌ی پای‌گیم پیاده‌سازی می‌کند. این پروژه شامل بخش‌های زیر است:\n",
    "\n",
    "یک تولیدکننده پازل سودوکو\n",
    "\n",
    "یک حل‌کننده پازل با استفاده از الگوریتم بازگشتی (Backtracking)\n",
    "\n",
    "یک رابط گرافیکی ساخته‌شده با پای‌گیم برای بازی کردن توسط کاربر"
   ]
  },
  {
   "cell_type": "markdown",
   "metadata": {},
   "source": [
    "نصب کتابخانه پای‌گیم\n",
    "برای اجرای بازی باید کتابخانه‌ی pygame را نصب کنید. کافی است این سلول را اجرا کنید:"
   ]
  },
  {
   "cell_type": "code",
   "execution_count": 9,
   "metadata": {},
   "outputs": [
    {
     "name": "stdout",
     "output_type": "stream",
     "text": [
      "Requirement already satisfied: pygame in c:\\users\\parsa0199\\myprojects\\sudoku\\venv\\lib\\site-packages (2.6.1)\n"
     ]
    },
    {
     "name": "stderr",
     "output_type": "stream",
     "text": [
      "WARNING: You are using pip version 20.2.3; however, version 25.1.1 is available.\n",
      "You should consider upgrading via the 'c:\\users\\parsa0199\\myprojects\\sudoku\\venv\\scripts\\python.exe -m pip install --upgrade pip' command.\n"
     ]
    }
   ],
   "source": [
    "!pip install pygame\n"
   ]
  },
  {
   "cell_type": "markdown",
   "metadata": {},
   "source": [
    "وارد کردن کتابخانه‌ها و ماژول‌ها\n",
    "در این بخش، کتابخانه‌های مورد نیاز را وارد می‌کنیم:"
   ]
  },
  {
   "cell_type": "code",
   "execution_count": 10,
   "metadata": {},
   "outputs": [],
   "source": [
    "import pygame\n",
    "import sys\n",
    "from typing import List, Tuple, Optional\n",
    "import random\n"
   ]
  },
  {
   "cell_type": "markdown",
   "metadata": {},
   "source": [
    "pygame: برای ساخت رابط گرافیکی بازی\n",
    "\n",
    "sys: برای مدیریت برخی عملکردهای سیستم (در اینجا استفاده خاصی نشده اما معمولا همراه با پای‌گیم استفاده می‌شود)\n",
    "\n",
    "typing: برای نوشتن نوع‌داده‌ها در توابع (Type Hinting)\n",
    "\n",
    "random: برای تولید اعداد تصادفی در ساخت پازل"
   ]
  },
  {
   "cell_type": "markdown",
   "metadata": {},
   "source": [
    "مقداردهی اولیه پای‌گیم\n",
    "قبل از استفاده از قابلیت‌های پای‌گیم، باید آن را مقداردهی اولیه کنیم:"
   ]
  },
  {
   "cell_type": "code",
   "execution_count": 11,
   "metadata": {},
   "outputs": [
    {
     "data": {
      "text/plain": [
       "(5, 0)"
      ]
     },
     "execution_count": 11,
     "metadata": {},
     "output_type": "execute_result"
    }
   ],
   "source": [
    "pygame.init()\n",
    "\n",
    "# این خط، کتابخانه‌ی پای‌گیم را آماده‌ی استفاده می‌کند.\n",
    "\n"
   ]
  },
  {
   "cell_type": "markdown",
   "metadata": {},
   "source": [
    "کلاس SudokuBoard\n",
    "این کلاس منطق اصلی بازی سودوکو را مدیریت می‌کند:\n",
    "\n",
    "تولید صفحه بازی\n",
    "\n",
    "بررسی معتبر بودن حرکات بازیکن\n",
    "\n",
    "حل پازل با الگوریتم بازگشتی (Backtracking)\n",
    "\n",
    "تولید پازل با حذف کردن برخی اعداد برای ایجاد چالش"
   ]
  },
  {
   "cell_type": "code",
   "execution_count": 12,
   "metadata": {},
   "outputs": [],
   "source": [
    "class SudokuBoard:\n",
    "    def __init__(self):\n",
    "        # ایجاد یک ماتریس 9x9 پر از صفر (خانه‌های خالی)\n",
    "        self.board = [[0 for _ in range(9)] for _ in range(9)]\n",
    "        # نگهداری موقعیت سلول‌های ثابت (خانه‌هایی که بازیکن نمی‌تواند تغییر دهد)\n",
    "        self.fixed_cells = set()\n",
    "        # تولید یک پازل جدید در هنگام ساخت نمونه کلاس\n",
    "        self.generate_puzzle()\n",
    "        \n",
    "    def is_valid_placement(self, row: int, col: int, num: int) -> bool:\n",
    "        # بررسی اینکه عدد num در ردیف row وجود نداشته باشد\n",
    "        if num in self.board[row]:\n",
    "            return False\n",
    "        # بررسی اینکه عدد num در ستون col وجود نداشته باشد\n",
    "        if num in [self.board[i][col] for i in range(9)]:\n",
    "            return False\n",
    "        # پیدا کردن محدوده 3x3 که سلول در آن قرار دارد\n",
    "        box_row, box_col = 3 * (row // 3), 3 * (col // 3)\n",
    "        # بررسی اینکه عدد num در جعبه 3x3 وجود نداشته باشد\n",
    "        for i in range(box_row, box_row + 3):\n",
    "            for j in range(box_col, box_col + 3):\n",
    "                if self.board[i][j] == num:\n",
    "                    return False\n",
    "        return True\n",
    "    \n",
    "    def find_empty_cell(self) -> Optional[Tuple[int, int]]:\n",
    "        # جستجو برای اولین سلول خالی (مقدار صفر)\n",
    "        for i in range(9):\n",
    "            for j in range(9):\n",
    "                if self.board[i][j] == 0:\n",
    "                    return (i, j)\n",
    "        return None  # اگر سلولی خالی نبود، None برمی‌گرداند\n",
    "    \n",
    "    def solve(self) -> bool:\n",
    "        # حل پازل با الگوریتم بازگشتی Backtracking\n",
    "        empty = self.find_empty_cell()\n",
    "        if not empty:\n",
    "            return True  # اگر هیچ خانه خالی نبود، حل شده است\n",
    "        row, col = empty\n",
    "        for num in range(1, 10):\n",
    "            if self.is_valid_placement(row, col, num):\n",
    "                self.board[row][col] = num\n",
    "                if self.solve():\n",
    "                    return True\n",
    "                # اگر انتخاب عدد موفق نبود، مقدار را صفر (خالی) می‌کند و ادامه می‌دهد\n",
    "                self.board[row][col] = 0\n",
    "        return False  # اگر هیچ عددی قابل قرار دادن نبود، False برمی‌گرداند\n",
    "        \n",
    "    def is_board_complete_and_valid(self) -> bool:\n",
    "        # بررسی کامل بودن و معتبر بودن صفحه بازی\n",
    "        for i in range(9):\n",
    "            for j in range(9):\n",
    "                num = self.board[i][j]\n",
    "                if num == 0:\n",
    "                    return False  # اگر خانه خالی وجود داشت، کامل نیست\n",
    "                self.board[i][j] = 0  # موقتا عدد را حذف می‌کند برای بررسی اعتبار\n",
    "                if not self.is_valid_placement(i, j, num):\n",
    "                    self.board[i][j] = num  # عدد را دوباره برمی‌گرداند\n",
    "                    return False  # اگر نامعتبر بود، False برمی‌گرداند\n",
    "                self.board[i][j] = num\n",
    "        return True  # اگر همه خانه‌ها معتبر بودند، True برمی‌گرداند\n",
    "    \n",
    "    def generate_puzzle(self, difficulty: int = 5) -> None:\n",
    "        # تولید یک پازل جدید با سطح سختی مشخص\n",
    "        self.board = [[0 for _ in range(9)] for _ in range(9)]\n",
    "        self.fixed_cells.clear()\n",
    "        # پر کردن هر جعبه 3x3 با اعداد تصادفی\n",
    "        for i in range(0, 9, 3):\n",
    "            nums = list(range(1, 10))\n",
    "            random.shuffle(nums)\n",
    "            for row in range(3):\n",
    "                for col in range(3):\n",
    "                    self.board[i + row][i + col] = nums[row * 3 + col]\n",
    "                    self.fixed_cells.add((i + row, i + col))\n",
    "        # حل کامل پازل برای داشتن یک بازی کامل\n",
    "        self.solve()\n",
    "        # حذف تعدادی از خانه‌ها بر اساس سختی برای ایجاد چالش\n",
    "        cells = [(i, j) for i in range(9) for j in range(9)]\n",
    "        random.shuffle(cells)\n",
    "        for i, j in cells[:difficulty]:\n",
    "            if (i, j) not in self.fixed_cells:\n",
    "                self.board[i][j] = 0\n",
    "    \n",
    "    def is_cell_fixed(self, row: int, col: int) -> bool:\n",
    "        # بررسی اینکه آیا سلول جزء خانه‌های ثابت است یا نه\n",
    "        return (row, col) in self.fixed_cells\n"
   ]
  },
  {
   "cell_type": "markdown",
   "metadata": {},
   "source": [
    "کلاس SudokuGUI\n",
    "این کلاس مسئول نمایش گرافیکی بازی و تعامل با کاربر است:\n",
    "\n",
    "رسم صفحه بازی\n",
    "\n",
    "مدیریت کلیک‌های ماوس و فشردن کلیدهای کیبورد\n",
    "\n",
    "کنترل بازی و نمایش پیام برنده شدن"
   ]
  },
  {
   "cell_type": "code",
   "execution_count": 13,
   "metadata": {},
   "outputs": [],
   "source": [
    "class SudokuGUI:\n",
    "    def __init__(self):\n",
    "        self.WINDOW_SIZE = 540  # اندازه پنجره بازی (پیکسل)\n",
    "        self.GRID_SIZE = 9      # اندازه جدول 9x9\n",
    "        self.CELL_SIZE = self.WINDOW_SIZE // self.GRID_SIZE  # اندازه هر خانه\n",
    "        \n",
    "        self.game_won = False   # وضعیت برنده شدن بازی\n",
    "        \n",
    "        # تعریف رنگ‌ها با فرمت RGB\n",
    "        self.WHITE = (255, 255, 255)\n",
    "        self.BLACK = (0, 0, 0)\n",
    "        self.GRAY = (200, 200, 200)\n",
    "        self.BLUE = (0, 0, 255)\n",
    "        self.RED = (255, 0, 0)\n",
    "        \n",
    "        # ایجاد پنجره بازی\n",
    "        self.screen = pygame.display.set_mode((self.WINDOW_SIZE, self.WINDOW_SIZE))\n",
    "        pygame.display.set_caption(\"بازی سودوکو\")\n",
    "        \n",
    "        # فونت برای نوشتن اعداد و پیام‌ها\n",
    "        self.font = pygame.font.Font(None, 40)\n",
    "        \n",
    "        self.selected_cell = None  # خانه انتخاب‌شده توسط کاربر\n",
    "        self.board = SudokuBoard() # نمونه‌ای از کلاس منطق بازی\n",
    "    \n",
    "    def draw_grid(self):\n",
    "        # رسم جدول 9x9 بازی\n",
    "        for i in range(self.GRID_SIZE):\n",
    "            for j in range(self.GRID_SIZE):\n",
    "                x = j * self.CELL_SIZE\n",
    "                y = i * self.CELL_SIZE\n",
    "                \n",
    "                # رنگ پس‌زمینه سلول؛ خاکستری اگر انتخاب شده باشد، سفید در غیر این صورت\n",
    "                color = self.GRAY if (i, j) == self.selected_cell else self.WHITE\n",
    "                pygame.draw.rect(self.screen, color, (x, y, self.CELL_SIZE, self.CELL_SIZE))\n",
    "                \n",
    "                # رسم خطوط سلول‌ها به رنگ مشکی\n",
    "                pygame.draw.rect(self.screen, self.BLACK, (x, y, self.CELL_SIZE, self.CELL_SIZE), 1)\n",
    "                \n",
    "                # نمایش عدد سلول اگر صفر نباشد\n",
    "                if self.board.board[i][j] != 0:\n",
    "                    num = str(self.board.board[i][j])\n",
    "                    # رنگ عدد: مشکی اگر ثابت باشد، آبی اگر توسط کاربر وارد شده باشد\n",
    "                    color = self.BLACK if self.board.is_cell_fixed(i, j) else self.BLUE\n",
    "                    text = self.font.render(num, True, color)\n",
    "                    text_rect = text.get_rect(center=(x + self.CELL_SIZE//2, y + self.CELL_SIZE//2))\n",
    "                    self.screen.blit(text, text_rect)\n",
    "        \n",
    "        # رسم خطوط ضخیم‌تر برای جدا کردن جعبه‌های 3x3\n",
    "        for i in range(0, self.WINDOW_SIZE, self.CELL_SIZE * 3):\n",
    "            pygame.draw.line(self.screen, self.BLACK, (i, 0), (i, self.WINDOW_SIZE), 3)\n",
    "            pygame.draw.line(self.screen, self.BLACK, (0, i), (self.WINDOW_SIZE, i), 3)\n",
    "    \n",
    "    def handle_click(self, pos: Tuple[int, int]) -> None:\n",
    "        # مدیریت کلیک ماوس: تعیین سلول انتخاب شده\n",
    "        x, y = pos\n",
    "        row = y // self.CELL_SIZE\n",
    "        col = x // self.CELL_SIZE\n",
    "        if 0 <= row < 9 and 0 <= col < 9:\n",
    "            # فقط سلول‌هایی که ثابت نیستند می‌توانند انتخاب شوند\n",
    "            if not self.board.is_cell_fixed(row, col):\n",
    "                self.selected_cell = (row, col)\n",
    "    \n",
    "    def handle_key(self, key: int) -> None:\n",
    "        # مدیریت فشردن کلیدها برای وارد کردن اعداد یا پاک کردن سلول\n",
    "        if self.selected_cell is None:\n",
    "            return\n",
    "        row, col = self.selected_cell\n",
    "        \n",
    "        if key == pygame.K_BACKSPACE or key == pygame.K_DELETE:\n",
    "            # پاک کردن عدد سلول انتخاب شده\n",
    "            self.board.board[row][col] = 0\n",
    "        elif pygame.K_1 <= key <= pygame.K_9:\n",
    "            # تبدیل کلید به عدد صحیح\n",
    "            num = key - pygame.K_0\n",
    "            # اگر قرار دادن عدد معتبر باشد، در جدول قرار می‌گیرد\n",
    "            if self.board.is_valid_placement(row, col, num):\n",
    "                self.board.board[row][col] = num\n",
    "    \n",
    "    def display_win_message(self):\n",
    "        # نمایش پیام برنده شدن روی صفحه\n",
    "        win_text = self.font.render(\"You Win!\", True, self.RED)\n",
    "        rect = win_text.get_rect(center=(self.WINDOW_SIZE // 2, self.WINDOW_SIZE // 2))\n",
    "        self.screen.blit(win_text, rect)\n",
    "    \n",
    "    def run(self):\n",
    "        # حلقه اصلی اجرای بازی\n",
    "        running = True\n",
    "        while running:\n",
    "            for event in pygame.event.get():\n",
    "                if event.type == pygame.QUIT:\n",
    "                    running = False  # خروج از بازی\n",
    "                elif not self.game_won:\n",
    "                    if event.type == pygame.MOUSEBUTTONDOWN:\n",
    "                        self.handle_click(event.pos)\n",
    "                    elif event.type == pygame.KEYDOWN:\n",
    "                        self.handle_key(event.key)\n",
    "            \n",
    "            self.screen.fill(self.WHITE)  # پاک کردن صفحه\n",
    "            self.draw_grid()              # رسم جدول\n",
    "            \n",
    "            # بررسی شرایط برنده شدن بازی\n",
    "            if not self.game_won and self.board.is_board_complete_and_valid():\n",
    "                self.game_won = True\n",
    "            \n",
    "            # نمایش پیام برنده شدن اگر بازی تمام شده باشد\n",
    "            if self.game_won:\n",
    "                self.display_win_message()\n",
    "            \n",
    "            pygame.display.flip()  # به‌روزرسانی صفحه\n"
   ]
  },
  {
   "cell_type": "markdown",
   "metadata": {},
   "source": [
    "اجرای بازی\n",
    "برای شروع بازی کافی است این بخش را اجرا کنید تا پنجره بازی باز شود و بتوانید بازی کنید:"
   ]
  },
  {
   "cell_type": "code",
   "execution_count": 14,
   "metadata": {},
   "outputs": [
    {
     "ename": "KeyboardInterrupt",
     "evalue": "",
     "output_type": "error",
     "traceback": [
      "\u001b[1;31m---------------------------------------------------------------------------\u001b[0m",
      "\u001b[1;31mKeyboardInterrupt\u001b[0m                         Traceback (most recent call last)",
      "Cell \u001b[1;32mIn[14], line 3\u001b[0m\n\u001b[0;32m      1\u001b[0m \u001b[38;5;28;01mif\u001b[39;00m \u001b[38;5;18m__name__\u001b[39m \u001b[38;5;241m==\u001b[39m \u001b[38;5;124m\"\u001b[39m\u001b[38;5;124m__main__\u001b[39m\u001b[38;5;124m\"\u001b[39m:\n\u001b[0;32m      2\u001b[0m     game \u001b[38;5;241m=\u001b[39m SudokuGUI()\n\u001b[1;32m----> 3\u001b[0m     \u001b[43mgame\u001b[49m\u001b[38;5;241;43m.\u001b[39;49m\u001b[43mrun\u001b[49m\u001b[43m(\u001b[49m\u001b[43m)\u001b[49m\n",
      "Cell \u001b[1;32mIn[13], line 110\u001b[0m, in \u001b[0;36mSudokuGUI.run\u001b[1;34m(self)\u001b[0m\n\u001b[0;32m    107\u001b[0m \u001b[38;5;28;01mif\u001b[39;00m \u001b[38;5;28mself\u001b[39m\u001b[38;5;241m.\u001b[39mgame_won:\n\u001b[0;32m    108\u001b[0m     \u001b[38;5;28mself\u001b[39m\u001b[38;5;241m.\u001b[39mdisplay_win_message()\n\u001b[1;32m--> 110\u001b[0m \u001b[43mpygame\u001b[49m\u001b[38;5;241;43m.\u001b[39;49m\u001b[43mdisplay\u001b[49m\u001b[38;5;241;43m.\u001b[39;49m\u001b[43mflip\u001b[49m\u001b[43m(\u001b[49m\u001b[43m)\u001b[49m\n",
      "\u001b[1;31mKeyboardInterrupt\u001b[0m: "
     ]
    }
   ],
   "source": [
    "if __name__ == \"__main__\":\n",
    "    game = SudokuGUI()\n",
    "    game.run()\n"
   ]
  }
 ],
 "metadata": {
  "kernelspec": {
   "display_name": "venv",
   "language": "python",
   "name": "python3"
  },
  "language_info": {
   "codemirror_mode": {
    "name": "ipython",
    "version": 3
   },
   "file_extension": ".py",
   "mimetype": "text/x-python",
   "name": "python",
   "nbconvert_exporter": "python",
   "pygments_lexer": "ipython3",
   "version": "3.9.2"
  }
 },
 "nbformat": 4,
 "nbformat_minor": 2
}
